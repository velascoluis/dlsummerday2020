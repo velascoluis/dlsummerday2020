{
 "cells": [
  {
   "cell_type": "markdown",
   "metadata": {},
   "source": [
    "## Preparacion de datos para juego spot it!"
   ]
  },
  {
   "cell_type": "markdown",
   "metadata": {},
   "source": [
    "Parcialmente basado en: [Medium post](https://towardsdatascience.com/how-i-learned-my-computer-to-play-spot-it-using-opencv-and-deep-learning-ad1f017a3ec3)"
   ]
  },
  {
   "cell_type": "markdown",
   "metadata": {},
   "source": [
    "### Preparacion de datos"
   ]
  },
  {
   "cell_type": "code",
   "execution_count": null,
   "metadata": {},
   "outputs": [],
   "source": [
    "import os\n",
    "import glob\n",
    "import cv2\n",
    "import imutils\n",
    "import numpy as np\n",
    "import matplotlib.pyplot as plt"
   ]
  },
  {
   "cell_type": "code",
   "execution_count": null,
   "metadata": {},
   "outputs": [],
   "source": [
    "raw_image_directory = '/Users/velascoluis/dl_summer_day/spotit/input_data/raw'\n",
    "processed_image_directory = '/Users/velascoluis/dl_summer_day/spotit/input_data/processed'\n",
    "symbols_image_directory = '/Users/velascoluis/dl_summer_day/spotit/input_data/symbols'"
   ]
  },
  {
   "cell_type": "code",
   "execution_count": null,
   "metadata": {},
   "outputs": [],
   "source": [
    "for file in os.listdir(raw_image_directory):\n",
    "    if file.endswith(\".jpg\"):\n",
    "        filename = os.fsdecode(file)\n",
    "        #print(filename)\n",
    "        image = cv2.imread(raw_image_directory+'/'+filename)\n",
    "        lab = cv2.cvtColor(image, cv2.COLOR_BGR2LAB)\n",
    "        l, a, b = cv2.split(lab)\n",
    "        clahe = cv2.createCLAHE(clipLimit=3.0, tileGridSize=(8,8))\n",
    "        cl = clahe.apply(l)\n",
    "        limg = cv2.merge((cl,a,b))\n",
    "        final = cv2.cvtColor(limg, cv2.COLOR_LAB2BGR)\n",
    "        resized = cv2.resize(final, (800, 800))\n",
    "        cv2.imwrite(processed_image_directory+'/'+filename+'_processed.jpg',resized)"
   ]
  },
  {
   "cell_type": "code",
   "execution_count": null,
   "metadata": {},
   "outputs": [],
   "source": [
    "for file in os.listdir(processed_image_directory):\n",
    "    if file.endswith(\".jpg\"):\n",
    "        filename = os.fsdecode(file)\n",
    "        #print(filename)\n",
    "        image = cv2.imread(processed_image_directory+'/'+filename)\n",
    "        gray = cv2.cvtColor(image, cv2.COLOR_RGB2GRAY)\n",
    "        thresh = cv2.threshold(gray, 190, 255, cv2.THRESH_BINARY)[1]\n",
    "        ## find contours\n",
    "        cnts = cv2.findContours(thresh.copy(), cv2.RETR_EXTERNAL, cv2.CHAIN_APPROX_SIMPLE)\n",
    "        cnts = imutils.grab_contours(cnts)\n",
    "        output = image.copy()\n",
    "        ## draw contours on image\n",
    "        for c in cnts:\n",
    "            cv2.drawContours(output, [c], -1, (255, 0, 0), 3)\n",
    "        ## sort by area, grab the biggest one\n",
    "        cnts = sorted(cnts, key=cv2.contourArea, reverse=True)[0]\n",
    "        ## create mask with the biggest contour\n",
    "        mask = np.zeros(gray.shape,np.uint8)\n",
    "        mask = cv2.drawContours(mask, [cnts], -1, 255, cv2.FILLED)\n",
    "        ## card in foreground\n",
    "        fg_masked = cv2.bitwise_and(image, image, mask=mask)\n",
    "        ## white background (use inverted mask)\n",
    "        mask = cv2.bitwise_not(mask)\n",
    "        bk = np.full(image.shape, 255, dtype=np.uint8)\n",
    "        bk_masked = cv2.bitwise_and(bk, bk, mask=mask)\n",
    "        # combine back- and foreground\n",
    "        final = cv2.bitwise_or(fg_masked, bk_masked)\n",
    "        #plt.imshow(final)\n",
    "        gray = cv2.cvtColor(final, cv2.COLOR_RGB2GRAY)\n",
    "        thresh = cv2.threshold(gray, 195, 255, cv2.THRESH_BINARY)[1]\n",
    "        thresh = cv2.bitwise_not(thresh)\n",
    "        cnts = cv2.findContours(thresh.copy(), cv2.RETR_EXTERNAL, cv2.CHAIN_APPROX_SIMPLE)\n",
    "        cnts = imutils.grab_contours(cnts)\n",
    "        cnts = sorted(cnts, key=cv2.contourArea, reverse=True)[:10]\n",
    "        # handle each contour\n",
    "        i = 0\n",
    "        for c in cnts:\n",
    "            if cv2.contourArea(c) > 1000:\n",
    "        # draw mask, keep contour\n",
    "                mask = np.zeros(gray.shape, np.uint8)\n",
    "                mask = cv2.drawContours(mask, [c], -1, 255, cv2.FILLED)\n",
    "                # white background\n",
    "                fg_masked = cv2.bitwise_and(image, image, mask=mask)\n",
    "                mask = cv2.bitwise_not(mask)\n",
    "                bk = np.full(image.shape, 255, dtype=np.uint8)\n",
    "                bk_masked = cv2.bitwise_and(bk, bk, mask=mask)\n",
    "                finalcont = cv2.bitwise_or(fg_masked, bk_masked)\n",
    "                # bounding rectangle around contour\n",
    "                output = finalcont.copy()\n",
    "                x,y,w,h = cv2.boundingRect(c)\n",
    "                # squares io rectangles\n",
    "                if w < h:\n",
    "                    x += int((w-h)/2)\n",
    "                    w = h\n",
    "                else:\n",
    "                    y += int((h-w)/2)\n",
    "                    h = w\n",
    "                # take out the square with the symbol\n",
    "                roi = finalcont[y:y+h, x:x+w]\n",
    "                try:\n",
    "                    roi = cv2.resize(roi, (400,400))\n",
    "                    cv2.imwrite(symbols_image_directory+'/'+filename+'_icon'+str(i)+'.jpg', roi)\n",
    "                except Exception:\n",
    "                    pass\n",
    "                i += 1"
   ]
  },
  {
   "cell_type": "markdown",
   "metadata": {},
   "source": [
    "### Clusterizacion para labeling"
   ]
  },
  {
   "cell_type": "code",
   "execution_count": null,
   "metadata": {},
   "outputs": [],
   "source": [
    "x_train = []\n",
    "for file in os.listdir(symbols_image_directory):\n",
    "    if file.endswith(\".jpg\"):\n",
    "        filename = os.fsdecode(file)\n",
    "        image = cv2.imread(symbols_image_directory+'/'+filename)\n",
    "        x_train.append(image)\n",
    "print('x_train shape:', np.array(x_train).shape)\n",
    "X_train = np.array(x_train).reshape(len(x_train),-1)\n",
    "print('X_train shape:', np.array(X_train).shape)"
   ]
  },
  {
   "cell_type": "code",
   "execution_count": null,
   "metadata": {},
   "outputs": [],
   "source": [
    "from sklearn.cluster import MiniBatchKMeans\n",
    "total_clusters = 57\n",
    "# Initialize the K-Means model\n",
    "kmeans = MiniBatchKMeans(n_clusters = total_clusters)\n",
    "# Fitting the model to training set\n",
    "kmeans.fit(np.array(X_train))"
   ]
  },
  {
   "cell_type": "code",
   "execution_count": null,
   "metadata": {},
   "outputs": [],
   "source": [
    "i = 0\n",
    "for file in os.listdir(symbols_image_directory):\n",
    "    if file.endswith(\".jpg\"):\n",
    "        filename = os.fsdecode(file)\n",
    "        image = cv2.imread(symbols_image_directory+'/'+filename)\n",
    "        print(filename)\n",
    "        cluster = kmeans.labels_[i]\n",
    "        os.rename(symbols_image_directory+'/'+filename,symbols_image_directory+'/'+str(cluster)+'_'+filename)\n",
    "        i += 1"
   ]
  }
 ],
 "metadata": {
  "environment": {
   "name": "tf2-gpu.2-1.m50",
   "type": "gcloud",
   "uri": "gcr.io/deeplearning-platform-release/tf2-gpu.2-1:m50"
  },
  "kernelspec": {
   "display_name": "Python 3",
   "language": "python",
   "name": "python3"
  },
  "language_info": {
   "codemirror_mode": {
    "name": "ipython",
    "version": 3
   },
   "file_extension": ".py",
   "mimetype": "text/x-python",
   "name": "python",
   "nbconvert_exporter": "python",
   "pygments_lexer": "ipython3",
   "version": "3.7.6"
  }
 },
 "nbformat": 4,
 "nbformat_minor": 4
}
